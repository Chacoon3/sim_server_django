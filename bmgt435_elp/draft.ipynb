{
 "cells": [
  {
   "cell_type": "code",
   "execution_count": 1,
   "metadata": {},
   "outputs": [],
   "source": [
    "from simulation import CallCenter\n",
    "from simulation import  Core"
   ]
  },
  {
   "cell_type": "code",
   "execution_count": 2,
   "metadata": {},
   "outputs": [
    {
     "ename": "TypeError",
     "evalue": "iter() returned non-iterator of type 'list'",
     "output_type": "error",
     "traceback": [
      "\u001b[1;31m---------------------------------------------------------------------------\u001b[0m",
      "\u001b[1;31mTypeError\u001b[0m                                 Traceback (most recent call last)",
      "Cell \u001b[1;32mIn[2], line 7\u001b[0m\n\u001b[0;32m      4\u001b[0m q\u001b[38;5;241m.\u001b[39menqueue(\u001b[38;5;241m2\u001b[39m, \u001b[38;5;241m2\u001b[39m)\n\u001b[0;32m      5\u001b[0m q\u001b[38;5;241m.\u001b[39menqueue(\u001b[38;5;241m3\u001b[39m, \u001b[38;5;241m3\u001b[39m)\n\u001b[1;32m----> 7\u001b[0m \u001b[38;5;28;01mfor\u001b[39;00m i \u001b[38;5;129;01min\u001b[39;00m q:\n\u001b[0;32m      8\u001b[0m     \u001b[38;5;28mprint\u001b[39m(i)\n",
      "\u001b[1;31mTypeError\u001b[0m: iter() returned non-iterator of type 'list'"
     ]
    }
   ],
   "source": [
    "q = Core.AppPriorityQueue()\n",
    "\n",
    "q.enqueue(1, 1)\n",
    "q.enqueue(2, 2)\n",
    "q.enqueue(3, 3)\n",
    "\n",
    "for i in q:\n",
    "    print(i)"
   ]
  },
  {
   "cell_type": "code",
   "execution_count": 3,
   "metadata": {},
   "outputs": [
    {
     "data": {
      "text/plain": [
       "{'avgQualityOfService': 80.71801459999999,\n",
       " 'avgAgentUtilizationRate': 52.0201418,\n",
       " 'avgMaxTimeInQueue': 2662.6129774110104,\n",
       " 'avgAvgTimeInQueue': 88.67872371690383,\n",
       " 'avgMaxServiceTime': 1622.1580291978717,\n",
       " 'avgAvgServiceTime': 306.201360418396,\n",
       " 'avgMaxWaitTime': 2662.6129774110104,\n",
       " 'avgAvgWaitTime': 88.67872371690383,\n",
       " 'avgCustomerArrived': 535.164,\n",
       " 'avgCustomerServed': 535.164,\n",
       " 'maxMaxQueueLength': (50,),\n",
       " 'avgAvgQueueLengthOverTime': 1.4806314498174455}"
      ]
     },
     "execution_count": 3,
     "metadata": {},
     "output_type": "execute_result"
    }
   ],
   "source": [
    "paperSchedule = [\n",
    "    4, 8, 10, 16, 15, 14, 12, 6, 6, 6, 7, 6, 7, 6, 14, 14, 12, 12\n",
    "]   # copied from the paper\n",
    "\n",
    "assert len(paperSchedule) == 18\n",
    "\n",
    "case = CallCenter.CallCenterCase(paperSchedule)\n",
    "res = case.run(500)\n",
    "res.summaryData"
   ]
  }
 ],
 "metadata": {
  "kernelspec": {
   "display_name": "Python 3",
   "language": "python",
   "name": "python3"
  },
  "language_info": {
   "codemirror_mode": {
    "name": "ipython",
    "version": 3
   },
   "file_extension": ".py",
   "mimetype": "text/x-python",
   "name": "python",
   "nbconvert_exporter": "python",
   "pygments_lexer": "ipython3",
   "version": "3.9.2"
  }
 },
 "nbformat": 4,
 "nbformat_minor": 2
}
