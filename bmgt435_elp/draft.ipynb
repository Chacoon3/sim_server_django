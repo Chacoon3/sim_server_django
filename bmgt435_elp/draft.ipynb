{
 "cells": [
  {
   "cell_type": "code",
   "execution_count": 1,
   "metadata": {},
   "outputs": [],
   "source": [
    "from simulation import CallCenter\n",
    "from simulation import  Core"
   ]
  },
  {
   "cell_type": "code",
   "execution_count": 22,
   "metadata": {},
   "outputs": [
    {
     "data": {
      "image/png": "[encoded data removed]",
      "text/plain": [
       "<Figure size 640x480 with 2 Axes>"
      ]
     },
     "metadata": {},
     "output_type": "display_data"
    }
   ],
   "source": [
    "import matplotlib.pyplot as plt\n",
    "import numpy as np\n",
    "\n",
    "# Generate some data\n",
    "data = np.random.rand(10, 10)  # 10x10 grid of random values\n",
    "\n",
    "plt.imshow(data, cmap='viridis')  # 'cmap' specifies the color map\n",
    "plt.colorbar()  # Optional: adds a color bar to the side\n",
    "plt.show()\n"
   ]
  },
  {
   "cell_type": "code",
   "execution_count": 13,
   "metadata": {},
   "outputs": [],
   "source": [
    "from scipy.optimize import milp, linprog\n",
    "import numpy as np\n",
    "\n",
    "D = [\n",
    "    4, 8, 10, 16, 15, 14, 12, 6, 6, 6, 7, 6, 7, 6, 14, 14, 12, 12\n",
    "]\n",
    "\n",
    "fullSchedule = [1] * 18\n",
    "\n",
    "scheduleType1 = list(fullSchedule)\n",
    "scheduleType1[5] = 0\n",
    "scheduleType1[6] = 0\n",
    "\n",
    "scheduleType2 = list(fullSchedule)\n",
    "scheduleType2[7] = 0\n",
    "scheduleType2[8] = 0\n",
    "\n",
    "scheduleType3  = list(fullSchedule)\n",
    "scheduleType3[9] = 0\n",
    "scheduleType3[10] = 0\n",
    "\n",
    "\n",
    "agentAvailability = [\n",
    "    scheduleType1, scheduleType1, scheduleType1, scheduleType1, scheduleType1, \n",
    "    scheduleType2, scheduleType2, scheduleType2, scheduleType2, scheduleType2, \n",
    "    scheduleType3, scheduleType3, scheduleType3, scheduleType3, scheduleType3, \n",
    "]\n",
    "\n",
    "schedule1Coef = sum(scheduleType1)\n",
    "schedule2Coef = sum(scheduleType2)\n",
    "schedule3Coef = sum(scheduleType3)\n",
    "\n",
    "coefs = np.array([\n",
    "    schedule1Coef, schedule1Coef, schedule1Coef, schedule1Coef, schedule1Coef,\n",
    "    schedule2Coef, schedule2Coef, schedule2Coef, schedule2Coef, schedule2Coef,\n",
    "    schedule3Coef, schedule3Coef, schedule3Coef, schedule3Coef, schedule3Coef,\n",
    "])\n",
    "\n",
    "Aub = np.array(coefs).reshape(1,15)\n",
    "Aub = -Aub\n",
    "res = linprog(c = coefs, integrality = 1, A_ub=Aub, b_ub=-np.sum(D), bounds = [(0,1)]*15)"
   ]
  },
  {
   "cell_type": "code",
   "execution_count": 19,
   "metadata": {},
   "outputs": [
    {
     "data": {
      "text/plain": [
       "175"
      ]
     },
     "execution_count": 19,
     "metadata": {},
     "output_type": "execute_result"
    }
   ],
   "source": [
    "sum(D)"
   ]
  },
  {
   "cell_type": "code",
   "execution_count": 18,
   "metadata": {},
   "outputs": [
    {
     "data": {
      "text/plain": [
       "(array([0., 0., 0., 0., 1., 1., 1., 1., 1., 1., 1., 1., 1., 1., 1.]), 176.0)"
      ]
     },
     "execution_count": 18,
     "metadata": {},
     "output_type": "execute_result"
    }
   ],
   "source": [
    "res.x, res.fun"
   ]
  },
  {
   "cell_type": "code",
   "execution_count": 12,
   "metadata": {},
   "outputs": [
    {
     "data": {
      "text/plain": [
       "array([-16, -16, -16, -16, -16, -16, -16, -16, -16, -16, -16, -16, -16,\n",
       "       -16, -16])"
      ]
     },
     "execution_count": 12,
     "metadata": {},
     "output_type": "execute_result"
    }
   ],
   "source": [
    "Aub"
   ]
  },
  {
   "cell_type": "code",
   "execution_count": 2,
   "metadata": {},
   "outputs": [
    {
     "name": "stdout",
     "output_type": "stream",
     "text": [
      "1\n",
      "3\n"
     ]
    }
   ],
   "source": [
    "q = Core.AppPriorityQueue()\n",
    "\n",
    "q.enqueue(1, 1)\n",
    "q.enqueue(2, 2)\n",
    "q.enqueue(3, 3)\n",
    "q.tryDequeueItem(2)\n",
    "\n",
    "while  q.empty() == False:\n",
    "    print(q.dequeue())"
   ]
  },
  {
   "cell_type": "code",
   "execution_count": 6,
   "metadata": {},
   "outputs": [
    {
     "data": {
      "text/plain": [
       "{'avgQualityOfService': 86.65057699999997,\n",
       " 'avgAgentUtilizationRate': 58.66398300000001,\n",
       " 'avgMaxTimeInQueue': 60.00000000000003,\n",
       " 'avgAvgTimeInQueue': 12.093202083431203,\n",
       " 'avgMaxServiceTime': 1590.879146626108,\n",
       " 'avgAvgServiceTime': 306.90758292824773,\n",
       " 'avgCustomerArrived': 536.99,\n",
       " 'avgCustomerServed': 465.05,\n",
       " 'maxMaxQueueLength': (8,),\n",
       " 'avgRenegeRate': 0.13349423844547206,\n",
       " 'avgAvgQueueLengthOverTime': 0.20321913079973225}"
      ]
     },
     "execution_count": 6,
     "metadata": {},
     "output_type": "execute_result"
    }
   ],
   "source": [
    "paperSchedule = [\n",
    "    4, 8, 10, 16, 15, 14, 12, 6, 6, 6, 7, 6, 7, 6, 14, 14, 12, 12\n",
    "]   # copied from the paper\n",
    "\n",
    "assert len(paperSchedule) == 18\n",
    "\n",
    "case = CallCenter.CallCenterCase(paperSchedule)\n",
    "res = case.run(100)\n",
    "res.summaryData"
   ]
  }
 ],
 "metadata": {
  "kernelspec": {
   "display_name": "Python 3",
   "language": "python",
   "name": "python3"
  },
  "language_info": {
   "codemirror_mode": {
    "name": "ipython",
    "version": 3
   },
   "file_extension": ".py",
   "mimetype": "text/x-python",
   "name": "python",
   "nbconvert_exporter": "python",
   "pygments_lexer": "ipython3",
   "version": "3.9.2"
  }
 },
 "nbformat": 4,
 "nbformat_minor": 2
}
