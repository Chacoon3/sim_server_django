{
 "cells": [
  {
   "cell_type": "code",
   "execution_count": 1,
   "metadata": {},
   "outputs": [],
   "source": [
    "from simulation import CallCenter"
   ]
  },
  {
   "cell_type": "code",
   "execution_count": 6,
   "metadata": {},
   "outputs": [
    {
     "data": {
      "text/plain": [
       "{'avgQualityOfService': 81.4483952,\n",
       " 'avgAgentUtilizationRate': 51.8602062,\n",
       " 'avgMaxTimeInQueue': 2481.274758729061,\n",
       " 'avgAvgTimeInQueue': 79.36676775895306,\n",
       " 'avgMaxServiceTime': 1616.059008491822,\n",
       " 'avgAvgServiceTime': 306.2180244144152,\n",
       " 'avgMaxWaitTime': 2481.274758729061,\n",
       " 'avgAvgWaitTime': 79.36676775895306,\n",
       " 'avgCustomerArrived': 533.466,\n",
       " 'avgCustomerServed': 533.466,\n",
       " 'maxMaxQueueLength': (45,),\n",
       " 'avgAvgQueueLengthOverTime': 1.3153076324290824}"
      ]
     },
     "execution_count": 6,
     "metadata": {},
     "output_type": "execute_result"
    }
   ],
   "source": [
    "paperSchedule = [\n",
    "    4, 8, 10, 16, 15, 14, 12, 6, 6, 6, 7, 6, 7, 6, 14, 14, 12, 12\n",
    "]   # copied from the paper\n",
    "\n",
    "assert len(paperSchedule) == 18\n",
    "\n",
    "case = CallCenter.CallCenterCase(paperSchedule)\n",
    "res = case.run(500)\n",
    "res.summaryData"
   ]
  },
  {
   "cell_type": "code",
   "execution_count": null,
   "metadata": {},
   "outputs": [],
   "source": [
    "{'avgQualityOfService': 81.4055362,\n",
    " 'avgAgentUtilizationRate': 51.982503200000004,\n",
    " 'avgMaxTimeInQueue': 2449.386905651221,\n",
    " 'avgAvgTimeInQueue': 80.58846423067934,\n",
    " 'avgMaxServiceTime': 1613.5333332736698,\n",
    " 'avgAvgServiceTime': 306.3362691964967,\n",
    " 'avgMaxWaitTime': 2449.386905651221,\n",
    " 'avgAvgWaitTime': 80.58846423067934,\n",
    " 'avgCustomerArrived': 534.512,\n",
    " 'avgCustomerServed': 534.512,\n",
    " 'maxMaxQueueLength': (44,),\n",
    " 'avgAvgQueueLengthOverTime': 1.3394049743808532}"
   ]
  },
  {
   "cell_type": "code",
   "execution_count": null,
   "metadata": {},
   "outputs": [],
   "source": [
    "{'avgQualityOfService': 25.402305199999997,\n",
    " 'avgAgentUtilizationRate': 81.4241202,\n",
    " 'avgMaxTimeInQueue': 302.5339236450838,\n",
    " 'avgAvgTimeInQueue': 31.676437883956996,\n",
    " 'avgMaxServiceTime': 1401.6550689232931,\n",
    " 'avgAvgServiceTime': 308.3815000656212,\n",
    " 'avgMaxWaitTime': 302.5339236450838,\n",
    " 'avgAvgWaitTime': 31.676437883956996,\n",
    " 'avgCustomerArrived': 535.002,\n",
    " 'avgCustomerServed': 171.442,\n",
    " 'maxMaxQueueLength': (1,),\n",
    " 'avgAvgQueueLengthOverTime': 0.33392740046694064}"
   ]
  },
  {
   "cell_type": "code",
   "execution_count": 1,
   "metadata": {},
   "outputs": [
    {
     "data": {
      "text/plain": [
       "{'avgQualityOfService': 17.3735956,\n",
       " 'avgAgentUtilizationRate': 87.36853479999999,\n",
       " 'avgMaxTimeInQueue': 395.16735502589154,\n",
       " 'avgAvgTimeInQueue': 52.60584778972792,\n",
       " 'avgMaxServiceTime': 1343.6206689367923,\n",
       " 'avgAvgServiceTime': 307.4049450519158,\n",
       " 'avgMaxWaitTime': 395.16735502589154,\n",
       " 'avgAvgWaitTime': 52.60584778972792,\n",
       " 'avgCustomerArrived': 535.626,\n",
       " 'avgCustomerServed': 138.578}"
      ]
     },
     "execution_count": 1,
     "metadata": {},
     "output_type": "execute_result"
    }
   ],
   "source": [
    "{'avgQualityOfService': 17.3735956,\n",
    " 'avgAgentUtilizationRate': 87.36853479999999,\n",
    " 'avgMaxTimeInQueue': 395.16735502589154,\n",
    " 'avgAvgTimeInQueue': 52.60584778972792,\n",
    " 'avgMaxServiceTime': 1343.6206689367923,\n",
    " 'avgAvgServiceTime': 307.4049450519158,\n",
    " 'avgMaxWaitTime': 395.16735502589154,\n",
    " 'avgAvgWaitTime': 52.60584778972792,\n",
    " 'avgCustomerArrived': 535.626,\n",
    " 'avgCustomerServed': 138.578}"
   ]
  },
  {
   "cell_type": "code",
   "execution_count": 1,
   "metadata": {},
   "outputs": [],
   "source": [
    "# def testDecompose(input, expected):\n",
    "#     result = CallCenter.CallCenterCase.__decomposeAsRects(input)\n",
    "#     assert result == expected, f\"expected {expected} but got {result}\"\n",
    "\n",
    "# i1 = [0,2,3,4,0,0,1]\n",
    "# e1 = dict({(1,4): 2, (2,4): 1, (3,4):1, (6,7): 1})\n",
    "# testDecompose(i1, e1)\n",
    "\n",
    "# i2 = [0,2,3,4,2,0,1]\n",
    "# e2 = dict({(1,5): 2, (2,4): 1, (3,4):1, (6,7): 1})"
   ]
  },
  {
   "cell_type": "code",
   "execution_count": 2,
   "metadata": {},
   "outputs": [
    {
     "name": "stdout",
     "output_type": "stream",
     "text": [
      "[([[1, 4], [6, 7]], 1), ([[1, 4]], 1), ([[2, 4]], 1), ([[3, 4]], 1)]\n",
      "[([[0, 9]], 2), ([[0, 5], [7, 9]], 1), ([[1, 5], [7, 9]], 1), ([[2, 5], [8, 9]], 1), ([[2, 4], [8, 9]], 1), ([[3, 4], [8, 9]], 2), ([[8, 9]], 1)]\n",
      "[([[1, 7]], 1), ([[1, 6]], 1), ([[2, 5]], 1), ([[3, 4]], 1)]\n",
      "[([[7, 8], [12, 13]], 1)]\n"
     ]
    }
   ],
   "source": [
    "# val = [0,2,3,4,0,0,1]\n",
    "# val2 = [3,4,6,8,5,2,2,4,9]\n",
    "# val3 = [0,2,3,4,3, 2, 1]\n",
    "# val4 = [0,0,0,0,0,0,0,1,0,0,0,0,1]\n",
    "# for v in [val, val2, val3, val4]:\n",
    "#     print(CallCenter.CallCenterCase.__decomposeAsRects(v))"
   ]
  },
  {
   "cell_type": "code",
   "execution_count": 2,
   "metadata": {},
   "outputs": [
    {
     "ename": "AttributeError",
     "evalue": "'CallCenterSimulator' object has no attribute 'decomposeAsRects'",
     "output_type": "error",
     "traceback": [
      "\u001b[1;31m---------------------------------------------------------------------------\u001b[0m",
      "\u001b[1;31mAttributeError\u001b[0m                            Traceback (most recent call last)",
      "Cell \u001b[1;32mIn[2], line 3\u001b[0m\n\u001b[0;32m      1\u001b[0m case \u001b[38;5;241m=\u001b[39m CallCenter\u001b[38;5;241m.\u001b[39mCallCenterSimulator([\u001b[38;5;241m3\u001b[39m, \u001b[38;5;241m4\u001b[39m, \u001b[38;5;241m3\u001b[39m])\n\u001b[1;32m----> 3\u001b[0m \u001b[38;5;28;43;01mcase\u001b[39;49;00m\u001b[38;5;241;43m.\u001b[39;49m\u001b[43mdecomposeAsRects\u001b[49m()\n",
      "\u001b[1;31mAttributeError\u001b[0m: 'CallCenterSimulator' object has no attribute 'decomposeAsRects'"
     ]
    }
   ],
   "source": []
  }
 ],
 "metadata": {
  "kernelspec": {
   "display_name": "Python 3",
   "language": "python",
   "name": "python3"
  },
  "language_info": {
   "codemirror_mode": {
    "name": "ipython",
    "version": 3
   },
   "file_extension": ".py",
   "mimetype": "text/x-python",
   "name": "python",
   "nbconvert_exporter": "python",
   "pygments_lexer": "ipython3",
   "version": "3.9.2rc1"
  }
 },
 "nbformat": 4,
 "nbformat_minor": 2
}
