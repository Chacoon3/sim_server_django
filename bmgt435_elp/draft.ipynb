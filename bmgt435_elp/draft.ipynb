{
 "cells": [
  {
   "cell_type": "code",
   "execution_count": 1,
   "metadata": {},
   "outputs": [],
   "source": [
    "from simulation import CallCenter"
   ]
  },
  {
   "cell_type": "code",
   "execution_count": 6,
   "metadata": {},
   "outputs": [
    {
     "data": {
      "text/plain": [
       "{'avgQualityOfService': 81.4483952,\n",
       " 'avgAgentUtilizationRate': 51.8602062,\n",
       " 'avgMaxTimeInQueue': 2481.274758729061,\n",
       " 'avgAvgTimeInQueue': 79.36676775895306,\n",
       " 'avgMaxServiceTime': 1616.059008491822,\n",
       " 'avgAvgServiceTime': 306.2180244144152,\n",
       " 'avgMaxWaitTime': 2481.274758729061,\n",
       " 'avgAvgWaitTime': 79.36676775895306,\n",
       " 'avgCustomerArrived': 533.466,\n",
       " 'avgCustomerServed': 533.466,\n",
       " 'maxMaxQueueLength': (45,),\n",
       " 'avgAvgQueueLengthOverTime': 1.3153076324290824}"
      ]
     },
     "execution_count": 6,
     "metadata": {},
     "output_type": "execute_result"
    }
   ],
   "source": [
    "paperSchedule = [\n",
    "    4, 8, 10, 16, 15, 14, 12, 6, 6, 6, 7, 6, 7, 6, 14, 14, 12, 12\n",
    "]   # copied from the paper\n",
    "\n",
    "assert len(paperSchedule) == 18\n",
    "\n",
    "case = CallCenter.CallCenterCase(paperSchedule)\n",
    "res = case.run(500)\n",
    "res.summaryData"
   ]
  }
 ],
 "metadata": {
  "kernelspec": {
   "display_name": "Python 3",
   "language": "python",
   "name": "python3"
  },
  "language_info": {
   "codemirror_mode": {
    "name": "ipython",
    "version": 3
   },
   "file_extension": ".py",
   "mimetype": "text/x-python",
   "name": "python",
   "nbconvert_exporter": "python",
   "pygments_lexer": "ipython3",
   "version": "3.9.2"
  }
 },
 "nbformat": 4,
 "nbformat_minor": 2
}
